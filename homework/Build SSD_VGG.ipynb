{
 "cells": [
  {
   "cell_type": "code",
   "execution_count": 1,
   "metadata": {},
   "outputs": [],
   "source": [
    "from ssd import build_ssd\n",
    "\n",
    "## box_utils裡面很多Function，可以看看是怎麼設計的\n",
    "from layers.box_utils import * \n",
    "from torch.autograd import Variable\n",
    "from layers import functions\n",
    "from layers import modules\n",
    "from math import sqrt \n",
    "from itertools import product\n",
    "from torch.autograd import Function\n",
    "\n",
    "import os\n",
    "import sys\n",
    "import torch\n",
    "import torch.nn as nn\n",
    "import torch.optim as optim\n",
    "import numpy as np\n",
    "import argparse\n",
    "import pickle\n",
    "import torch.nn.functional as F\n"
   ]
  },
  {
   "cell_type": "code",
   "execution_count": 2,
   "metadata": {},
   "outputs": [
    {
     "name": "stderr",
     "output_type": "stream",
     "text": [
      "C:\\Users\\Chengshien\\Desktop\\資料科學\\深度學習與視覺學習馬拉松\\2nd-DL-CVMarathon\\2nd-DL-CVMarathon\\homework\\Object Detection\\ssd.py:34: UserWarning: volatile was removed and now has no effect. Use `with torch.no_grad():` instead.\n",
      "  self.priors = Variable(self.priorbox.forward(), volatile=True)\n"
     ]
    }
   ],
   "source": [
    "## 詳細模型結構可以參考ssd.py\n",
    "ssd_net=build_ssd('train', size=300, num_classes=21)"
   ]
  },
  {
   "cell_type": "markdown",
   "metadata": {},
   "source": [
    "## 默認Config檔案在data/config.py內"
   ]
  },
  {
   "cell_type": "code",
   "execution_count": 3,
   "metadata": {},
   "outputs": [
    {
     "data": {
      "text/plain": [
       "{'num_classes': 21,\n",
       " 'lr_steps': (80000, 100000, 120000),\n",
       " 'max_iter': 120000,\n",
       " 'feature_maps': [38, 19, 10, 5, 3, 1],\n",
       " 'min_dim': 300,\n",
       " 'steps': [8, 16, 32, 64, 100, 300],\n",
       " 'min_sizes': [30, 60, 111, 162, 213, 264],\n",
       " 'max_sizes': [60, 111, 162, 213, 264, 315],\n",
       " 'aspect_ratios': [[2], [2, 3], [2, 3], [2, 3], [2], [2]],\n",
       " 'variance': [0.1, 0.2],\n",
       " 'clip': True,\n",
       " 'name': 'VOC'}"
      ]
     },
     "execution_count": 3,
     "metadata": {},
     "output_type": "execute_result"
    }
   ],
   "source": [
    "ssd_net.cfg"
   ]
  },
  {
   "cell_type": "code",
   "execution_count": 4,
   "metadata": {},
   "outputs": [],
   "source": [
    "cfg = {\n",
    "    'num_classes': 21,\n",
    "    'lr_steps': (80000, 100000, 120000),\n",
    "    'max_iter': 120000,\n",
    "    'feature_maps': [38, 19, 10, 5, 3, 1],\n",
    "    'min_dim': 300,\n",
    "    'steps': [8, 16, 32, 64, 100, 300],\n",
    "    'min_sizes': [30, 60, 111, 162, 213, 264],\n",
    "    'max_sizes': [60, 111, 162, 213, 264, 315],\n",
    "    'aspect_ratios': [[2], [2, 3], [2, 3], [2, 3], [2], [2]],\n",
    "    'variance': [0.1, 0.2],\n",
    "    'clip': True,\n",
    "    'name': 'VOC',\n",
    "}"
   ]
  },
  {
   "cell_type": "markdown",
   "metadata": {},
   "source": [
    "### 'aspect_ratios' : 使用六張Feature Map，每一張上方有預設的anchor boxes，Boxes aspect ratio可以自己設定\n",
    "### 'feature_maps' : 使用feature map大小為[38x38, 19x19, 10x10, 5x5, 3x3, 1x1]\n",
    "### 'min_sizes'、'max_sizes'可藉由下方算式算出，由作者自行設計\n",
    "### 'steps' : Feature map回放回原本300*300的比例，如38要回放為300大概就是8倍\n",
    "### 'variance' : Training 的一個trick，加速收斂，詳見：https://github.com/rykov8/ssd_keras/issues/53"
   ]
  },
  {
   "cell_type": "markdown",
   "metadata": {},
   "source": [
    "---"
   ]
  },
  {
   "cell_type": "markdown",
   "metadata": {},
   "source": [
    "## 'min_sizes'、'max_sizes' 計算"
   ]
  },
  {
   "cell_type": "code",
   "execution_count": 5,
   "metadata": {},
   "outputs": [
    {
     "name": "stdout",
     "output_type": "stream",
     "text": [
      "min_sizes:  [30.0, 60.0, 111.0, 162.0, 213.0, 264.0]\n",
      "max_sizes:  [60.0, 111.0, 162.0, 213.0, 264.0, 315.0]\n"
     ]
    }
   ],
   "source": [
    "import math\n",
    "## source:https://blog.csdn.net/gbyy42299/article/details/81235891\n",
    "min_dim = 300   ## 维度\n",
    "# conv4_3 ==> 38 x 38\n",
    "# fc7 ==> 19 x 19\n",
    "# conv6_2 ==> 10 x 10\n",
    "# conv7_2 ==> 5 x 5\n",
    "# conv8_2 ==> 3 x 3\n",
    "# conv9_2 ==> 1 x 1\n",
    "mbox_source_layers = ['conv4_3', 'fc7', 'conv6_2', 'conv7_2', 'conv8_2', 'conv9_2'] ## prior_box來源層，可以更改。很多改進都是基於此處的調整。\n",
    "# in percent %\n",
    "min_ratio = 20 ## 這裡即是論文中所說的Smin的= 0.2，Smax的= 0.9的初始值，經過下面的運算即可得到min_sizes，max_sizes。\n",
    "max_ratio = 90\n",
    "step = int(math.floor((max_ratio - min_ratio) / (len(mbox_source_layers) - 2)))## 取一個間距步長，即在下面用於循環給比取值時起一個間距作用。可以用一個具體的數值代替，這裡等於17。\n",
    "min_sizes = []  ## 經過以下運算得到min_sizes和max_sizes。\n",
    "max_sizes = []\n",
    "for ratio in range(min_ratio, max_ratio + 1, step):\n",
    "    ## 從min_ratio至max_ratio + 1每隔步驟= 17取一個值賦值給比。注意範圍函數的作用。\n",
    "    ## min_sizes.append（）函數即把括號內部每次得到的值依次給了min_sizes。\n",
    "    min_sizes.append(min_dim * ratio / 100.)\n",
    "    max_sizes.append(min_dim * (ratio + step) / 100.)\n",
    "min_sizes = [min_dim * 10 / 100.] + min_sizes\n",
    "max_sizes = [min_dim * 20 / 100.] + max_sizes\n",
    "\n",
    "## steps: 這一步要仔細理解，即計算卷積層產生的prior_box距離原圖的步長，先驗框中心點的坐標會乘以step，\n",
    "## 相當於從特徵映射位置映射回原圖位置，比如conv4_3輸出特徵圖大小為38 *38，而輸入的圖片為300* 300，\n",
    "## 所以38 *8約等於300，所以映射步長為8.這是針對300* 300的訓練圖片。\n",
    "steps = [8, 16, 32, 64, 100, 300]  \n",
    "aspect_ratios = [[2], [2, 3], [2, 3], [2, 3], [2], [2]]\n",
    " \n",
    "print('min_sizes: ',min_sizes)\n",
    "print('max_sizes: ',max_sizes)\n"
   ]
  },
  {
   "cell_type": "markdown",
   "metadata": {},
   "source": [
    "---"
   ]
  },
  {
   "cell_type": "markdown",
   "metadata": {},
   "source": [
    "## Default anchor boxes設計原理，看懂收穫很多\n",
    "##### 可以理解 SSD原文中 8732個anchors是怎麼來的\n",
    "##### 38×38×4+19×19×6+10×10×6+5×5×6+3×3×4+1×1×4=8732"
   ]
  },
  {
   "cell_type": "code",
   "execution_count": 6,
   "metadata": {},
   "outputs": [],
   "source": [
    "class PriorBox(object):\n",
    "    \"\"\"Compute priorbox coordinates in center-offset form for each source\n",
    "    feature map.\n",
    "    \"\"\"\n",
    "    def __init__(self, cfg):\n",
    "        super(PriorBox, self).__init__()\n",
    "        self.image_size = cfg['min_dim']\n",
    "        # number of priors for feature map location (either 4 or 6)\n",
    "        self.num_priors = len(cfg['aspect_ratios'])\n",
    "        self.variance = cfg['variance'] or [0.1]\n",
    "        self.feature_maps = cfg['feature_maps']\n",
    "        self.min_sizes = cfg['min_sizes']\n",
    "        self.max_sizes = cfg['max_sizes']\n",
    "        self.steps = cfg['steps']\n",
    "        self.aspect_ratios = cfg['aspect_ratios']\n",
    "        self.clip = cfg['clip']\n",
    "        self.version = cfg['name']\n",
    "        for v in self.variance:\n",
    "            if v <= 0:\n",
    "                raise ValueError('Variances must be greater than 0')\n",
    "\n",
    "    def forward(self):\n",
    "        mean = []\n",
    "        '''依照Feature map大小找出所有的pixel 中心'''\n",
    "        '''下方這兩個loop會找出W個x軸pixel對上W個y軸pixel，假如現在是在38x38的feature map上，就會有38x38個值'''\n",
    "        '''ex. [0,1],[0,2]..[0,37] [1,1],[1,2]..[1,37]..........[37,37]'''\n",
    "        for k, f in enumerate(self.feature_maps):\n",
    "            for i, j in product(range(f), repeat=2):\n",
    "                f_k = self.image_size / self.steps[k] ## 如self.steps==8，就是先將原圖size normalize(/300)後再乘上8\n",
    "                # unit center x,y\n",
    "                '''中心點'''\n",
    "                cx = (j + 0.5) / f_k\n",
    "                cy = (i + 0.5) / f_k\n",
    "\n",
    "                # aspect_ratio: 1\n",
    "                # rel size: min_size\n",
    "                '''/self.image_size 就是在做normalization '''\n",
    "                s_k = self.min_sizes[k]/self.image_size\n",
    "                '''小的正方形box'''\n",
    "                mean += [cx, cy, s_k, s_k]\n",
    "\n",
    "                # aspect_ratio: 1\n",
    "                # rel size: sqrt(s_k * s_(k+1))\n",
    "                '''大的正方形box'''\n",
    "                s_k_prime = sqrt(s_k * (self.max_sizes[k]/self.image_size))\n",
    "                mean += [cx, cy, s_k_prime, s_k_prime]\n",
    "\n",
    "                # rest of aspect ratios\n",
    "                for ar in self.aspect_ratios[k]:\n",
    "                    '''aspect ratio 2,3'''\n",
    "                    mean += [cx, cy, s_k*sqrt(ar), s_k/sqrt(ar)]\n",
    "                    '''aspect ratio 1/2,1/3'''\n",
    "                    mean += [cx, cy, s_k/sqrt(ar), s_k*sqrt(ar)]\n",
    "        # back to torch land\n",
    "        output = torch.Tensor(mean).view(-1, 4)\n",
    "        if self.clip:\n",
    "            output.clamp_(max=1, min=0)\n",
    "        return output"
   ]
  },
  {
   "cell_type": "code",
   "execution_count": 7,
   "metadata": {},
   "outputs": [],
   "source": [
    "PriorBox_Demo=PriorBox(cfg)"
   ]
  },
  {
   "cell_type": "code",
   "execution_count": 8,
   "metadata": {},
   "outputs": [
    {
     "name": "stdout",
     "output_type": "stream",
     "text": [
      "torch.Size([8732, 4])\n"
     ]
    }
   ],
   "source": [
    "print(PriorBox_Demo.forward().shape)"
   ]
  },
  {
   "cell_type": "markdown",
   "metadata": {},
   "source": [
    "---"
   ]
  },
  {
   "cell_type": "markdown",
   "metadata": {},
   "source": [
    "## Loss 如何設計"
   ]
  },
  {
   "cell_type": "code",
   "execution_count": 9,
   "metadata": {},
   "outputs": [],
   "source": [
    "class MultiBoxLoss(nn.Module):\n",
    "\n",
    "    def __init__(self, num_classes, overlap_thresh, prior_for_matching,\n",
    "                 bkg_label, neg_mining, neg_pos, neg_overlap, encode_target,\n",
    "                 use_gpu=True):\n",
    "        super(MultiBoxLoss, self).__init__()\n",
    "        self.use_gpu = use_gpu\n",
    "        '''有幾類'''\n",
    "        self.num_classes = num_classes\n",
    "        '''判定為正樣本的threshold，一般設為0.5'''\n",
    "        self.threshold = overlap_thresh\n",
    "        '''background自己會有一類，不用Label，假如我們有20類一樣標註0-19，下方會自己空出一類給background'''\n",
    "        self.background_label = bkg_label\n",
    "        self.encode_target = encode_target\n",
    "        self.use_prior_for_matching = prior_for_matching\n",
    "        '''OHEM，找出分得最不好的樣品，也就是confidence score比較低的正負樣品'''\n",
    "        self.do_neg_mining = neg_mining\n",
    "        '''負樣品與正樣品的比例，通常是3:1'''\n",
    "        self.negpos_ratio = neg_pos\n",
    "        self.neg_overlap = neg_overlap\n",
    "        self.variance = cfg['variance']\n",
    "     \n",
    "\n",
    "    def forward(self, predictions, targets):\n",
    "\n",
    "        '''prediction會output三個值'''\n",
    "        '''loc shape: bounding box 資訊，torch.size(batch_size,num_priors,4)'''\n",
    "        '''conf shape: 每一個bounding box 的信心程度，torch.size(batch_size,num_priors,num_classes)'''\n",
    "        '''priors shape: 預設的defaul box， torch.size(num_priors,4)'''\n",
    "        loc_data, conf_data, priors = predictions\n",
    "        num = loc_data.size(0)\n",
    "        priors = priors[:loc_data.size(1), :]\n",
    "        num_priors = (priors.size(0))\n",
    "        num_classes = self.num_classes\n",
    "\n",
    "        # match priors (default boxes) and ground truth boxes\n",
    "        loc_t = torch.Tensor(num, num_priors, 4)\n",
    "        conf_t = torch.LongTensor(num, num_priors)\n",
    "        for idx in range(num):\n",
    "            truths = targets[idx][:, :-1].data\n",
    "            labels = targets[idx][:, -1].data\n",
    "            defaults = priors.data\n",
    "            '''jaccard 計算每一個BBOX與ground truth的IOU'''\n",
    "            match(self.threshold, truths, defaults, self.variance, labels,\n",
    "                  loc_t, conf_t, idx)\n",
    "        if self.use_gpu:\n",
    "            loc_t = loc_t.cuda()\n",
    "            conf_t = conf_t.cuda()\n",
    "        '''用Variable包裝'''\n",
    "        loc_t = Variable(loc_t, requires_grad=False)\n",
    "        conf_t = Variable(conf_t, requires_grad=False)\n",
    "\n",
    "        pos = conf_t > 0\n",
    "        num_pos = pos.sum(dim=1, keepdim=True)\n",
    "\n",
    "\n",
    "        pos_idx = pos.unsqueeze(pos.dim()).expand_as(loc_data)\n",
    "        loc_p = loc_data[pos_idx].view(-1, 4)\n",
    "        loc_t = loc_t[pos_idx].view(-1, 4)\n",
    "        '''smooth_l1_loss 計算bounding box regression'''\n",
    "        loss_l = F.smooth_l1_loss(loc_p, loc_t, size_average=False)\n",
    "\n",
    "        # Compute max conf across batch for hard negative mining\n",
    "        batch_conf = conf_data.view(-1, self.num_classes)\n",
    "        loss_c = log_sum_exp(batch_conf) - batch_conf.gather(1, conf_t.view(-1, 1))\n",
    "\n",
    "        # Hard Negative Mining\n",
    "        loss_c = loss_c.view(num, -1)\n",
    "        loss_c[pos] = 0\n",
    "        '''排列confidence 的分數'''\n",
    "        _, loss_idx = loss_c.sort(1, descending=True)\n",
    "        _, idx_rank = loss_idx.sort(1)\n",
    "        num_pos = pos.long().sum(1, keepdim=True)\n",
    "        '''負樣品取出數量 == negpos_ratio*num_pos'''\n",
    "        num_neg = torch.clamp(self.negpos_ratio*num_pos, max=pos.size(1)-1)\n",
    "        neg = idx_rank < num_neg.expand_as(idx_rank)\n",
    "\n",
    "        # Confidence Loss Including Positive and Negative Examples\n",
    "        pos_idx = pos.unsqueeze(2).expand_as(conf_data)\n",
    "        neg_idx = neg.unsqueeze(2).expand_as(conf_data)\n",
    "        conf_p = conf_data[(pos_idx+neg_idx).gt(0)].view(-1, self.num_classes)\n",
    "        targets_weighted = conf_t[(pos+neg).gt(0)]\n",
    "        '''用cross_entropy做分類'''\n",
    "        loss_c = F.cross_entropy(conf_p, targets_weighted, size_average=False)\n",
    "\n",
    "        # Sum of losses: L(x,c,l,g) = (Lconf(x, c) + αLloc(x,l,g)) / N\n",
    "        #double轉成torch.float64\n",
    "        N = num_pos.data.sum().double()\n",
    "        loss_l = loss_l.double()\n",
    "        loss_c = loss_c.double()\n",
    "        loss_l /= N\n",
    "        loss_c /= N\n",
    "        return loss_l, loss_c\n"
   ]
  },
  {
   "cell_type": "markdown",
   "metadata": {},
   "source": [
    "## 產生我們Loss function，注意這裡的class要包含背景"
   ]
  },
  {
   "cell_type": "code",
   "execution_count": 10,
   "metadata": {},
   "outputs": [],
   "source": [
    "Use_cuda=False\n",
    "criterion = MultiBoxLoss(21, 0.5, True, 0, False, 3, 0.5,False, Use_cuda,)"
   ]
  },
  {
   "cell_type": "markdown",
   "metadata": {},
   "source": [
    "----"
   ]
  },
  {
   "cell_type": "markdown",
   "metadata": {},
   "source": [
    "## 基本設定"
   ]
  },
  {
   "cell_type": "code",
   "execution_count": 11,
   "metadata": {},
   "outputs": [
    {
     "name": "stderr",
     "output_type": "stream",
     "text": [
      "C:\\Users\\Chengshien\\Desktop\\資料科學\\深度學習與視覺學習馬拉松\\2nd-DL-CVMarathon\\2nd-DL-CVMarathon\\homework\\Object Detection\\ssd.py:34: UserWarning: volatile was removed and now has no effect. Use `with torch.no_grad():` instead.\n",
      "  self.priors = Variable(self.priorbox.forward(), volatile=True)\n"
     ]
    }
   ],
   "source": [
    "ssd_net=build_ssd('train', size=300, num_classes=21)\n",
    "use_pretrained=False\n",
    "if use_pretrained:\n",
    "    ssd_net.load_weights('./demo/ssd300_mAP_77.43_v2.pth')\n",
    "net=ssd_net"
   ]
  },
  {
   "cell_type": "code",
   "execution_count": 12,
   "metadata": {},
   "outputs": [],
   "source": [
    "'''要不要使用gpu'''\n",
    "Use_cuda=False\n",
    "\n",
    "'''tensor type會依照cpu或gpu有所不同'''\n",
    "if torch.cuda.is_available():\n",
    "    if Use_cuda:\n",
    "        torch.set_default_tensor_type('torch.cuda.FloatTensor')\n",
    "    else:\n",
    "        print(\"WARNING: It looks like you have a CUDA device, but aren't \" +\n",
    "              \"using CUDA.\\nRun with --cuda for optimal training speed.\")\n",
    "        torch.set_default_tensor_type('torch.FloatTensor')\n",
    "else:\n",
    "    torch.set_default_tensor_type('torch.FloatTensor')\n",
    "\n",
    "\n",
    "'''使用GPU時模型要轉成cuda'''\n",
    "if Use_cuda:\n",
    "    net = net.cuda()\n",
    "    \n",
    "batch_size_=32\n",
    "optimizer = optim.Adam(net.parameters(),lr=0.00001/batch_size_)"
   ]
  },
  {
   "cell_type": "markdown",
   "metadata": {},
   "source": [
    "---"
   ]
  },
  {
   "cell_type": "markdown",
   "metadata": {},
   "source": [
    "## 訓練"
   ]
  },
  {
   "cell_type": "markdown",
   "metadata": {},
   "source": [
    "## 這裡我們先示範輸入的 image,Label格式，真正在訓練時，準備成一樣格式即可"
   ]
  },
  {
   "cell_type": "code",
   "execution_count": 13,
   "metadata": {},
   "outputs": [
    {
     "name": "stderr",
     "output_type": "stream",
     "text": [
      "C:\\Users\\Chengshien\\Anaconda3\\lib\\site-packages\\ipykernel_launcher.py:2: UserWarning: To copy construct from a tensor, it is recommended to use sourceTensor.clone().detach() or sourceTensor.clone().detach().requires_grad_(True), rather than torch.tensor(sourceTensor).\n",
      "  \n"
     ]
    }
   ],
   "source": [
    "'''輸入影像格式，假設batch size 為 4'''\n",
    "image_in=torch.tensor(torch.rand(4,3,300,300),dtype=torch.float32)\n",
    "'''Label格式，沒有固定長度，看圖像中有幾個label就有幾個'''\n",
    "label_0=[[ 0.1804,  0.6076,  0.7701,  0.8485, 0.0000],\n",
    "       [ 0.2250,  0.0000,  0.9238,  0.5641, 3.0000],\n",
    "       [ 0.2250,  0.0000,  0.9238,  0.5641, 19.0000],\n",
    "       [ 0.2950,  0.0000,  0.8238,  0.3641, 6.0000],]\n",
    "label_1=[[ 0.1804,  0.6076,  0.7701,  0.8485, 13.0000],\n",
    "       [ 0.2250,  0.0000,  0.9238,  0.5641, 11.0000],\n",
    "       [ 0.2250,  0.0000,  0.9238,  0.5641, 7.0000],\n",
    "       [ 0.2950,  0.0000,  0.8238,  0.3641, 5.0000],]\n",
    "label_2=[[ 0.1804,  0.6076,  0.7701,  0.8485, 0.0000],\n",
    "       [ 0.2250,  0.0000,  0.9238,  0.5641, 3.0000],\n",
    "       [ 0.2250,  0.0000,  0.9238,  0.5641, 14.0000],\n",
    "       [ 0.2950,  0.0000,  0.8238,  0.3641, 6.0000],]\n",
    "label_3=[[ 0.1804,  0.6076,  0.7701,  0.8485, 0.0000],\n",
    "       [ 0.2250,  0.0000,  0.9238,  0.5641, 3.0000],\n",
    "       [ 0.2250,  0.0000,  0.9238,  0.5641, 19.0000],\n",
    "       [ 0.2950,  0.0000,  0.8238,  0.3641, 6.0000],]"
   ]
  },
  {
   "cell_type": "code",
   "execution_count": 14,
   "metadata": {},
   "outputs": [],
   "source": [
    "epochs=300\n",
    "iteration=1000"
   ]
  },
  {
   "cell_type": "code",
   "execution_count": 15,
   "metadata": {},
   "outputs": [
    {
     "name": "stderr",
     "output_type": "stream",
     "text": [
      "C:\\Users\\Chengshien\\Anaconda3\\lib\\site-packages\\ipykernel_launcher.py:14: UserWarning: volatile was removed and now has no effect. Use `with torch.no_grad():` instead.\n",
      "  \n",
      "C:\\Users\\Chengshien\\Anaconda3\\lib\\site-packages\\ipykernel_launcher.py:15: UserWarning: volatile was removed and now has no effect. Use `with torch.no_grad():` instead.\n",
      "  from ipykernel import kernelapp as app\n",
      "C:\\Users\\Chengshien\\Anaconda3\\lib\\site-packages\\torch\\nn\\_reduction.py:43: UserWarning: size_average and reduce args will be deprecated, please use reduction='sum' instead.\n",
      "  warnings.warn(warning.format(ret))\n"
     ]
    },
    {
     "name": "stdout",
     "output_type": "stream",
     "text": [
      "BBOX Regression Loss:  2.5166667231807\n",
      "Classification Loss:  13.951577419704861\n",
      "BBOX Regression Loss:  2.516537037602178\n",
      "Classification Loss:  13.871486013906978\n",
      "BBOX Regression Loss:  2.5164076345938216\n",
      "Classification Loss:  13.791597832573785\n",
      "BBOX Regression Loss:  2.5162784505773472\n",
      "Classification Loss:  13.71274156923647\n",
      "BBOX Regression Loss:  2.516149280689381\n",
      "Classification Loss:  13.635600811993633\n",
      "BBOX Regression Loss:  2.5160201272846745\n",
      "Classification Loss:  13.561291522744265\n",
      "BBOX Regression Loss:  2.5158910075192735\n",
      "Classification Loss:  13.489360894097222\n",
      "BBOX Regression Loss:  2.51576186992504\n",
      "Classification Loss:  13.420366541544599\n",
      "BBOX Regression Loss:  2.5156326639308855\n",
      "Classification Loss:  13.354018386401268\n",
      "BBOX Regression Loss:  2.515503342239945\n",
      "Classification Loss:  13.289868435329863\n",
      "BBOX Regression Loss:  2.515373949249987\n",
      "Classification Loss:  13.227540244157066\n",
      "BBOX Regression Loss:  2.515244523978528\n",
      "Classification Loss:  13.166809618914566\n",
      "BBOX Regression Loss:  2.5151151412572617\n",
      "Classification Loss:  13.108346688034187\n",
      "BBOX Regression Loss:  2.5149866739908857\n",
      "Classification Loss:  13.053370383933737\n",
      "BBOX Regression Loss:  2.5148599262002076\n",
      "Classification Loss:  13.00164350344811\n",
      "BBOX Regression Loss:  2.514735813494082\n",
      "Classification Loss:  12.955116589864096\n",
      "BBOX Regression Loss:  2.514614996151727\n",
      "Classification Loss:  12.913816437897859\n",
      "BBOX Regression Loss:  2.5144974555498285\n",
      "Classification Loss:  12.87692582244245\n",
      "BBOX Regression Loss:  2.51438288995397\n",
      "Classification Loss:  12.843780517578125\n",
      "BBOX Regression Loss:  2.5142709562513565\n",
      "Classification Loss:  12.813843660707825\n",
      "BBOX Regression Loss:  2.5141612515457936\n",
      "Classification Loss:  12.786667139231632\n",
      "BBOX Regression Loss:  2.5140534025250054\n",
      "Classification Loss:  12.761880559953376\n",
      "BBOX Regression Loss:  2.513947158543192\n",
      "Classification Loss:  12.739176029322037\n",
      "BBOX Regression Loss:  2.513842317793104\n",
      "Classification Loss:  12.718294073034217\n",
      "BBOX Regression Loss:  2.513738725450304\n",
      "Classification Loss:  12.699016741717301\n",
      "BBOX Regression Loss:  2.5136362646380044\n",
      "Classification Loss:  12.681159208031463\n",
      "BBOX Regression Loss:  2.513534793932252\n",
      "Classification Loss:  12.664564193913964\n",
      "BBOX Regression Loss:  2.513434138626018\n",
      "Classification Loss:  12.64909711968962\n",
      "BBOX Regression Loss:  2.5133341354428578\n",
      "Classification Loss:  12.634642876519097\n",
      "BBOX Regression Loss:  2.51323469562295\n",
      "Classification Loss:  12.621103655026284\n",
      "BBOX Regression Loss:  2.5131357436823873\n",
      "Classification Loss:  12.608397383786729\n",
      "BBOX Regression Loss:  2.5130372480109884\n",
      "Classification Loss:  12.596448530974211\n",
      "BBOX Regression Loss:  2.512939108903159\n",
      "Classification Loss:  12.585188504100248\n",
      "BBOX Regression Loss:  2.5128412566673264\n",
      "Classification Loss:  12.574556757110397\n",
      "BBOX Regression Loss:  2.5127436416868183\n",
      "Classification Loss:  12.564499285662615\n",
      "BBOX Regression Loss:  2.512646236341186\n",
      "Classification Loss:  12.554968293115436\n",
      "BBOX Regression Loss:  2.5125489938485845\n",
      "Classification Loss:  12.545920914811294\n",
      "BBOX Regression Loss:  2.5124518901981103\n",
      "Classification Loss:  12.537318923087613\n",
      "BBOX Regression Loss:  2.5123548748599607\n",
      "Classification Loss:  12.529128005271396\n",
      "BBOX Regression Loss:  2.5122578931737833\n",
      "Classification Loss:  12.521317178231698\n",
      "BBOX Regression Loss:  2.51216086204136\n",
      "Classification Loss:  12.513858431959969\n",
      "BBOX Regression Loss:  2.5120637755755606\n",
      "Classification Loss:  12.50672652094873\n",
      "BBOX Regression Loss:  2.511966607408417\n",
      "Classification Loss:  12.499898511309956\n",
      "BBOX Regression Loss:  2.5118693316424334\n",
      "Classification Loss:  12.493356233333497\n",
      "BBOX Regression Loss:  2.5117719410083907\n",
      "Classification Loss:  12.487082632559316\n",
      "BBOX Regression Loss:  2.511674425183479\n",
      "Classification Loss:  12.481060137418542\n",
      "BBOX Regression Loss:  2.511576761496734\n",
      "Classification Loss:  12.475272666985262\n",
      "BBOX Regression Loss:  2.5114789332872554\n",
      "Classification Loss:  12.46970538151117\n",
      "BBOX Regression Loss:  2.5113809183341305\n",
      "Classification Loss:  12.46434483027152\n",
      "BBOX Regression Loss:  2.5112826939335573\n",
      "Classification Loss:  12.459178545916522\n",
      "BBOX Regression Loss:  2.5111842203244144\n",
      "Classification Loss:  12.454195154172055\n",
      "BBOX Regression Loss:  2.511085467324977\n",
      "Classification Loss:  12.449384092673277\n",
      "BBOX Regression Loss:  2.5109864219596214\n",
      "Classification Loss:  12.444735726303858\n",
      "BBOX Regression Loss:  2.510887058085375\n",
      "Classification Loss:  12.440240907603657\n",
      "BBOX Regression Loss:  2.51078736070832\n",
      "Classification Loss:  12.435891218089095\n",
      "BBOX Regression Loss:  2.510687312877998\n",
      "Classification Loss:  12.431678765917582\n",
      "BBOX Regression Loss:  2.510586912218358\n",
      "Classification Loss:  12.427596244787225\n",
      "BBOX Regression Loss:  2.5104861321577165\n",
      "Classification Loss:  12.423636893202975\n",
      "BBOX Regression Loss:  2.5103849369104148\n",
      "Classification Loss:  12.419794434896446\n",
      "BBOX Regression Loss:  2.510283301082658\n",
      "Classification Loss:  12.416062947967905\n",
      "BBOX Regression Loss:  2.510181200482589\n",
      "Classification Loss:  12.41243686548637\n",
      "BBOX Regression Loss:  2.5100786179482157\n",
      "Classification Loss:  12.408910955978266\n",
      "BBOX Regression Loss:  2.509975526642617\n",
      "Classification Loss:  12.405480449301995\n",
      "BBOX Regression Loss:  2.509871874915229\n",
      "Classification Loss:  12.402140785146642\n",
      "BBOX Regression Loss:  2.5097676221190013\n",
      "Classification Loss:  12.398887842075098\n",
      "BBOX Regression Loss:  2.5096627262171136\n",
      "Classification Loss:  12.395719258900309\n",
      "BBOX Regression Loss:  2.509557159069561\n",
      "Classification Loss:  12.392631722234638\n",
      "BBOX Regression Loss:  2.5094508991781663\n",
      "Classification Loss:  12.389621580036637\n",
      "BBOX Regression Loss:  2.509343923014847\n",
      "Classification Loss:  12.386685554148109\n",
      "BBOX Regression Loss:  2.509236202340908\n",
      "Classification Loss:  12.383820447164869\n",
      "BBOX Regression Loss:  2.509127688221342\n",
      "Classification Loss:  12.381023268881226\n",
      "BBOX Regression Loss:  2.509018336009587\n",
      "Classification Loss:  12.378291101023983\n",
      "BBOX Regression Loss:  2.508908128278743\n",
      "Classification Loss:  12.375621191418636\n",
      "BBOX Regression Loss:  2.5087970542716787\n",
      "Classification Loss:  12.373010913745777\n",
      "BBOX Regression Loss:  2.5086850725338783\n",
      "Classification Loss:  12.37045787217882\n",
      "BBOX Regression Loss:  2.5085721553185296\n",
      "Classification Loss:  12.367959782115198\n",
      "BBOX Regression Loss:  2.5084582807239055\n",
      "Classification Loss:  12.365514545156268\n",
      "BBOX Regression Loss:  2.508343422175133\n",
      "Classification Loss:  12.363119966193594\n",
      "BBOX Regression Loss:  2.5082275451431237\n",
      "Classification Loss:  12.36077407572228\n",
      "BBOX Regression Loss:  2.5081106143527565\n",
      "Classification Loss:  12.358475019666882\n",
      "BBOX Regression Loss:  2.5079925774328777\n",
      "Classification Loss:  12.35622106760563\n",
      "BBOX Regression Loss:  2.507873390425188\n",
      "Classification Loss:  12.354010497716061\n",
      "BBOX Regression Loss:  2.507753024086363\n",
      "Classification Loss:  12.351841684772943\n",
      "BBOX Regression Loss:  2.5076314196174527\n",
      "Classification Loss:  12.349713036538853\n",
      "BBOX Regression Loss:  2.5075085299622777\n",
      "Classification Loss:  12.347623068948716\n",
      "BBOX Regression Loss:  2.507384322081836\n",
      "Classification Loss:  12.345570322278244\n",
      "BBOX Regression Loss:  2.5072587589346735\n",
      "Classification Loss:  12.343553411711932\n",
      "BBOX Regression Loss:  2.507131804520835\n",
      "Classification Loss:  12.341571028224546\n",
      "BBOX Regression Loss:  2.5070034323957033\n",
      "Classification Loss:  12.3396219241634\n",
      "BBOX Regression Loss:  2.506873588718995\n",
      "Classification Loss:  12.337704894768358\n",
      "BBOX Regression Loss:  2.5067422005913826\n",
      "Classification Loss:  12.335818785751648\n",
      "BBOX Regression Loss:  2.5066092038116214\n",
      "Classification Loss:  12.333962553211649\n",
      "BBOX Regression Loss:  2.506474535724453\n",
      "Classification Loss:  12.332135156823648\n",
      "BBOX Regression Loss:  2.5063381327335246\n",
      "Classification Loss:  12.330335571673839\n",
      "BBOX Regression Loss:  2.5061999166685704\n",
      "Classification Loss:  12.32856288381952\n",
      "BBOX Regression Loss:  2.5060597931897197\n",
      "Classification Loss:  12.326816112612502\n",
      "BBOX Regression Loss:  2.5059176523296736\n",
      "Classification Loss:  12.325094291043218\n",
      "BBOX Regression Loss:  2.5057733750577595\n",
      "Classification Loss:  12.323396460431503\n",
      "BBOX Regression Loss:  2.5056268411587115\n",
      "Classification Loss:  12.321721691698158\n",
      "BBOX Regression Loss:  2.505477952462656\n"
     ]
    },
    {
     "name": "stdout",
     "output_type": "stream",
     "text": [
      "Classification Loss:  12.320069159613714\n"
     ]
    },
    {
     "ename": "FileNotFoundError",
     "evalue": "[Errno 2] No such file or directory: 'weights/Ｗeights.pth'",
     "output_type": "error",
     "traceback": [
      "\u001b[1;31m---------------------------------------------------------------------------\u001b[0m",
      "\u001b[1;31mFileNotFoundError\u001b[0m                         Traceback (most recent call last)",
      "\u001b[1;32m<ipython-input-15-8327ce25e295>\u001b[0m in \u001b[0;36m<module>\u001b[1;34m()\u001b[0m\n\u001b[0;32m     36\u001b[0m             \u001b[0mprint\u001b[0m\u001b[1;33m(\u001b[0m\u001b[1;34m'Classification Loss: '\u001b[0m\u001b[1;33m,\u001b[0m \u001b[0mnp\u001b[0m\u001b[1;33m.\u001b[0m\u001b[0mmean\u001b[0m\u001b[1;33m(\u001b[0m\u001b[0mconf_loss\u001b[0m\u001b[1;33m)\u001b[0m\u001b[1;33m)\u001b[0m\u001b[1;33m\u001b[0m\u001b[0m\n\u001b[0;32m     37\u001b[0m     \u001b[1;34m'''儲存權重'''\u001b[0m\u001b[1;33m\u001b[0m\u001b[0m\n\u001b[1;32m---> 38\u001b[1;33m     \u001b[0mtorch\u001b[0m\u001b[1;33m.\u001b[0m\u001b[0msave\u001b[0m\u001b[1;33m(\u001b[0m\u001b[0mssd_net\u001b[0m\u001b[1;33m.\u001b[0m\u001b[0mstate_dict\u001b[0m\u001b[1;33m(\u001b[0m\u001b[1;33m)\u001b[0m\u001b[1;33m,\u001b[0m\u001b[1;34m'weights/Ｗeights.pth'\u001b[0m\u001b[1;33m)\u001b[0m\u001b[1;33m\u001b[0m\u001b[0m\n\u001b[0m",
      "\u001b[1;32m~\\Anaconda3\\lib\\site-packages\\torch\\serialization.py\u001b[0m in \u001b[0;36msave\u001b[1;34m(obj, f, pickle_module, pickle_protocol, _use_new_zipfile_serialization)\u001b[0m\n\u001b[0;32m    325\u001b[0m             \u001b[1;32mreturn\u001b[0m\u001b[1;33m\u001b[0m\u001b[0m\n\u001b[0;32m    326\u001b[0m \u001b[1;33m\u001b[0m\u001b[0m\n\u001b[1;32m--> 327\u001b[1;33m     \u001b[1;32mwith\u001b[0m \u001b[0m_open_file_like\u001b[0m\u001b[1;33m(\u001b[0m\u001b[0mf\u001b[0m\u001b[1;33m,\u001b[0m \u001b[1;34m'wb'\u001b[0m\u001b[1;33m)\u001b[0m \u001b[1;32mas\u001b[0m \u001b[0mopened_file\u001b[0m\u001b[1;33m:\u001b[0m\u001b[1;33m\u001b[0m\u001b[0m\n\u001b[0m\u001b[0;32m    328\u001b[0m         \u001b[0m_legacy_save\u001b[0m\u001b[1;33m(\u001b[0m\u001b[0mobj\u001b[0m\u001b[1;33m,\u001b[0m \u001b[0mopened_file\u001b[0m\u001b[1;33m,\u001b[0m \u001b[0mpickle_module\u001b[0m\u001b[1;33m,\u001b[0m \u001b[0mpickle_protocol\u001b[0m\u001b[1;33m)\u001b[0m\u001b[1;33m\u001b[0m\u001b[0m\n\u001b[0;32m    329\u001b[0m \u001b[1;33m\u001b[0m\u001b[0m\n",
      "\u001b[1;32m~\\Anaconda3\\lib\\site-packages\\torch\\serialization.py\u001b[0m in \u001b[0;36m_open_file_like\u001b[1;34m(name_or_buffer, mode)\u001b[0m\n\u001b[0;32m    210\u001b[0m \u001b[1;32mdef\u001b[0m \u001b[0m_open_file_like\u001b[0m\u001b[1;33m(\u001b[0m\u001b[0mname_or_buffer\u001b[0m\u001b[1;33m,\u001b[0m \u001b[0mmode\u001b[0m\u001b[1;33m)\u001b[0m\u001b[1;33m:\u001b[0m\u001b[1;33m\u001b[0m\u001b[0m\n\u001b[0;32m    211\u001b[0m     \u001b[1;32mif\u001b[0m \u001b[0m_is_path\u001b[0m\u001b[1;33m(\u001b[0m\u001b[0mname_or_buffer\u001b[0m\u001b[1;33m)\u001b[0m\u001b[1;33m:\u001b[0m\u001b[1;33m\u001b[0m\u001b[0m\n\u001b[1;32m--> 212\u001b[1;33m         \u001b[1;32mreturn\u001b[0m \u001b[0m_open_file\u001b[0m\u001b[1;33m(\u001b[0m\u001b[0mname_or_buffer\u001b[0m\u001b[1;33m,\u001b[0m \u001b[0mmode\u001b[0m\u001b[1;33m)\u001b[0m\u001b[1;33m\u001b[0m\u001b[0m\n\u001b[0m\u001b[0;32m    213\u001b[0m     \u001b[1;32melse\u001b[0m\u001b[1;33m:\u001b[0m\u001b[1;33m\u001b[0m\u001b[0m\n\u001b[0;32m    214\u001b[0m         \u001b[1;32mif\u001b[0m \u001b[1;34m'w'\u001b[0m \u001b[1;32min\u001b[0m \u001b[0mmode\u001b[0m\u001b[1;33m:\u001b[0m\u001b[1;33m\u001b[0m\u001b[0m\n",
      "\u001b[1;32m~\\Anaconda3\\lib\\site-packages\\torch\\serialization.py\u001b[0m in \u001b[0;36m__init__\u001b[1;34m(self, name, mode)\u001b[0m\n\u001b[0;32m    191\u001b[0m \u001b[1;32mclass\u001b[0m \u001b[0m_open_file\u001b[0m\u001b[1;33m(\u001b[0m\u001b[0m_opener\u001b[0m\u001b[1;33m)\u001b[0m\u001b[1;33m:\u001b[0m\u001b[1;33m\u001b[0m\u001b[0m\n\u001b[0;32m    192\u001b[0m     \u001b[1;32mdef\u001b[0m \u001b[0m__init__\u001b[0m\u001b[1;33m(\u001b[0m\u001b[0mself\u001b[0m\u001b[1;33m,\u001b[0m \u001b[0mname\u001b[0m\u001b[1;33m,\u001b[0m \u001b[0mmode\u001b[0m\u001b[1;33m)\u001b[0m\u001b[1;33m:\u001b[0m\u001b[1;33m\u001b[0m\u001b[0m\n\u001b[1;32m--> 193\u001b[1;33m         \u001b[0msuper\u001b[0m\u001b[1;33m(\u001b[0m\u001b[0m_open_file\u001b[0m\u001b[1;33m,\u001b[0m \u001b[0mself\u001b[0m\u001b[1;33m)\u001b[0m\u001b[1;33m.\u001b[0m\u001b[0m__init__\u001b[0m\u001b[1;33m(\u001b[0m\u001b[0mopen\u001b[0m\u001b[1;33m(\u001b[0m\u001b[0mname\u001b[0m\u001b[1;33m,\u001b[0m \u001b[0mmode\u001b[0m\u001b[1;33m)\u001b[0m\u001b[1;33m)\u001b[0m\u001b[1;33m\u001b[0m\u001b[0m\n\u001b[0m\u001b[0;32m    194\u001b[0m \u001b[1;33m\u001b[0m\u001b[0m\n\u001b[0;32m    195\u001b[0m     \u001b[1;32mdef\u001b[0m \u001b[0m__exit__\u001b[0m\u001b[1;33m(\u001b[0m\u001b[0mself\u001b[0m\u001b[1;33m,\u001b[0m \u001b[1;33m*\u001b[0m\u001b[0margs\u001b[0m\u001b[1;33m)\u001b[0m\u001b[1;33m:\u001b[0m\u001b[1;33m\u001b[0m\u001b[0m\n",
      "\u001b[1;31mFileNotFoundError\u001b[0m: [Errno 2] No such file or directory: 'weights/Ｗeights.pth'"
     ]
    }
   ],
   "source": [
    "for epoch in range(epochs):\n",
    "    n=0\n",
    "    loss_sum=[]\n",
    "    loc_loss=[]\n",
    "    conf_loss=[]\n",
    "    for number__ in range(iteration) :\n",
    "        '''要用Variable包裝tensor才能送入模型'''\n",
    "        if Use_cuda:\n",
    "            image_ = Variable(image_in.cuda())\n",
    "            y = [Variable(torch.tensor(label_0).cuda(), volatile=True),Variable(torch.tensor(label_1).cuda(), \n",
    "                volatile=True),Variable(torch.tensor(label_2).cuda(), volatile=True),Variable(torch.tensor(label_3).cuda(), volatile=True)]      \n",
    "        else:\n",
    "            image_ = Variable(image_in)\n",
    "            y = [Variable(torch.tensor(label_0), volatile=True),Variable(torch.tensor(label_1), \n",
    "                volatile=True),Variable(torch.tensor(label_2), volatile=True),Variable(torch.tensor(label_3), volatile=True)]\n",
    "\n",
    "        '''Forward Pass'''\n",
    "        out = net(image_)\n",
    "        '''Regression Loss and Classification Loss'''\n",
    "        loss_l,loss_c = criterion(out,y )\n",
    "        loss = loss_l+ loss_c\n",
    "        '''Backward'''\n",
    "        loss.backward()\n",
    "\n",
    "        loc_loss.append(loss_l.data.cpu().numpy())\n",
    "        conf_loss.append(loss_c.data.cpu().numpy())\n",
    "        loss_sum.append(loss.data.cpu().numpy())\n",
    "        '''更新參數'''\n",
    "        optimizer.step()\n",
    "        '''清空Gradients'''\n",
    "        optimizer.zero_grad()\n",
    "        \n",
    "        n+=1\n",
    "        if n%10==0:\n",
    "            print('BBOX Regression Loss: ', np.mean(loc_loss))\n",
    "            print('Classification Loss: ', np.mean(conf_loss))\n",
    "    '''儲存權重'''\n",
    "    torch.save(ssd_net.state_dict(),'weights/Ｗeights.pth')"
   ]
  },
  {
   "cell_type": "markdown",
   "metadata": {},
   "source": [
    "## 想要Train VOC,COCO可以參考原Github:https://github.com/amdegroot/ssd.pytorch"
   ]
  },
  {
   "cell_type": "code",
   "execution_count": null,
   "metadata": {},
   "outputs": [],
   "source": []
  }
 ],
 "metadata": {
  "kernelspec": {
   "display_name": "Python 3",
   "language": "python",
   "name": "python3"
  },
  "language_info": {
   "codemirror_mode": {
    "name": "ipython",
    "version": 3
   },
   "file_extension": ".py",
   "mimetype": "text/x-python",
   "name": "python",
   "nbconvert_exporter": "python",
   "pygments_lexer": "ipython3",
   "version": "3.7.0"
  }
 },
 "nbformat": 4,
 "nbformat_minor": 2
}
